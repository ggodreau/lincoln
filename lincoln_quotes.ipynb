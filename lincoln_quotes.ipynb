{
  "nbformat": 4,
  "nbformat_minor": 0,
  "metadata": {
    "colab": {
      "name": "lincoln_quotes.ipynb",
      "version": "0.3.2",
      "provenance": []
    },
    "kernelspec": {
      "name": "python3",
      "display_name": "Python 3"
    }
  },
  "cells": [
    {
      "cell_type": "code",
      "metadata": {
        "id": "z4II9XWw6KiF",
        "colab_type": "code",
        "colab": {}
      },
      "source": [
        "import requests\n",
        "from tqdm import tqdm\n",
        "from bs4 import BeautifulSoup"
      ],
      "execution_count": 0,
      "outputs": []
    },
    {
      "cell_type": "code",
      "metadata": {
        "id": "LZEftHX96Sfs",
        "colab_type": "code",
        "colab": {
          "base_uri": "https://localhost:8080/",
          "height": 67
        },
        "outputId": "67eee81d-cdbc-4507-9127-a93390fc5a87"
      },
      "source": [
        "# declare a list\n",
        "lincoln_quotes = []\n",
        "\n",
        "# iteraterate through the 13 pages of lincoln quotes\n",
        "for page in tqdm(range(1,3)):\n",
        "    \n",
        "    # make request for that page\n",
        "    r = requests.get(\"https://www.successories.com/iquote/author/291/abraham-lincoln-quotes/{0}\".format(page))\n",
        "    \n",
        "    # turn into a BeautifulSoup object\n",
        "    soup = BeautifulSoup(r.text, 'html.parser')\n",
        "    \n",
        "    # find quotes on page\n",
        "    quotes = soup.find_all(name='div', attrs={'class':'quote'})\n",
        "    \n",
        "    # add to our quotes list\n",
        "    for quote in quotes:\n",
        "        lincoln_quotes.append(quote.text)\n",
        "print(\"Total number of quotes scraped: \" + str(len(lincoln_quotes)) +\"\\n\")"
      ],
      "execution_count": 2,
      "outputs": [
        {
          "output_type": "stream",
          "text": [
            "100%|██████████| 2/2 [00:01<00:00,  1.04it/s]"
          ],
          "name": "stderr"
        },
        {
          "output_type": "stream",
          "text": [
            "Total number of quotes scraped: 40\n",
            "\n"
          ],
          "name": "stdout"
        },
        {
          "output_type": "stream",
          "text": [
            "\n"
          ],
          "name": "stderr"
        }
      ]
    },
    {
      "cell_type": "code",
      "metadata": {
        "id": "P4loyHz66lx-",
        "colab_type": "code",
        "colab": {
          "base_uri": "https://localhost:8080/",
          "height": 709
        },
        "outputId": "b7158163-c130-4703-b80a-78ed2c2f1a60"
      },
      "source": [
        "lincoln_quotes"
      ],
      "execution_count": 3,
      "outputs": [
        {
          "output_type": "execute_result",
          "data": {
            "text/plain": [
              "['\"What kills a skunk is the publicity it gives itself.\"',\n",
              " '\"I am for the people of the whole nation doing just as they please in all matter which concern the whole nation; for those of each part doing just as they choose in all matters which concern no other part; and for each individual doing just as he chooses in all matters which concern nobody else.\"',\n",
              " '\"If I had eight hours to chop down a tree, I\\'d spend six hours sharpening my ax\"',\n",
              " '\"Better to remain silent and be thought a fool than to speak out and remove all doubt.\"',\n",
              " '\"If you would win a man to your cause, first convince him that you are his sincere friend. Therein is a drop of honey that catches his heart, which, say what you will, is the great high-road to his reason, and which, when once gained, you will find but little trouble in convincing his judgment of the justice of your cause.\"',\n",
              " '\"Be not deceived. Revolutions do not go backward.\"',\n",
              " '\"I walk slowly, but I never walk backward\"',\n",
              " '\"Whatever you are, be a good one.\"',\n",
              " '\"Beware of rashness, but with energy, and sleepless vigilance, go forward and give us victories.\"',\n",
              " '\"You cannot escape the responsibility of tomorrow by evading it today.\"',\n",
              " '\"A lawyer\\'s time and advice are his stock in trade\"',\n",
              " '\"An old Dutch farmer, who remarked to a companion once that it was not best to swap horses when crossing a stream.\"',\n",
              " '\"You may fool all the people some of the time, you can even fool some of the people all of the time, but you cannot fool all of the people all the time.\"',\n",
              " '\"Avoid popularity if you would have peace.\"',\n",
              " '\"A lawyer\\'s advice is his stock and trade.\"',\n",
              " '\"If you do not like him, let him alone. If God gave him little, that little let him enjoy.\"',\n",
              " '\"As an individual who undertakes to live by borrowing, soon finds his original means devoured by interest, and next no one left to borrow from - so must it be with a new government\"',\n",
              " '\"Let not him who is houseless pull down the house of another, but let him work diligently and build one for himself, thus by example assuring that his own shall be safe from violence when built.\"',\n",
              " '\"We are not enemies, but friends. We must not be enemies. Though passion may have strained, it must not break our bonds of affection. The mystic cords of memory will swell when again touched as surely they will be by the better angels of our nature.\"',\n",
              " '\"We must not be enemies. Though passion may have strained, it must not break our bonds of affection. The mystic chords of memory, stretching from every battlefield and patriot grave, to every living heart and hearth-stone, all over this broad land, wi\"',\n",
              " '\"And in the end, it\\'s not the years in your life that count.  It\\'s the life in your years.\"',\n",
              " '\"Every person is responsible for his own looks after 40.\"',\n",
              " '\"Every man over forty is responsible for his face.\"',\n",
              " '\"[That was the speech -- delivered under a banner reading] Mission Accomplished ... Major combat operations in Iraq have ended.\"',\n",
              " '\"I like to see a man proud of the place in which he lives.  I like to see a man live so that his place will be proud of him.\"',\n",
              " '\"Human action can be modified to some extent, but human nature cannot be changed.\"',\n",
              " '\"To stand in silence when they should be protesting makes cowards out of men\"',\n",
              " '\"I do the very best I know how, the very best I can, and I mean to keep on doing so until the end\"',\n",
              " '\"Tact is the ability to describe others as they see themselves.\"',\n",
              " '\"Always bear in mind that your own resolution to succeed is more important than any other.\"',\n",
              " '\"The best thing about the future is that it comes one day at a time.\"',\n",
              " '\"Surely God would not have created such a being as man, with an ability to grasp the infinite, to exist only for a day! No, no, man was made for immortality.\"',\n",
              " '\"We must not promise what we ought not, lest we be called on to perform what we cannot\"',\n",
              " '\"That some achieve great success, is proof to all that others can achieve it as well.\"',\n",
              " '\"Things may come to those who wait...but only the things left by those who hustle.\"',\n",
              " '\"With the catching ends the pleasure of the chase\"',\n",
              " '\"All my life I have tried to pluck a thistle and plant a flower wherever the flower would grow in thought and mind.\"',\n",
              " '\"No matter how much cats fight, there always seem to be plenty of kittens.\"',\n",
              " '\"Nearly all men can stand adversity, but if you want to test a man\\'s character, give him power.\"',\n",
              " '\"No man is good enough to govern another man without that other\\'s consent.\"']"
            ]
          },
          "metadata": {
            "tags": []
          },
          "execution_count": 3
        }
      ]
    }
  ]
}