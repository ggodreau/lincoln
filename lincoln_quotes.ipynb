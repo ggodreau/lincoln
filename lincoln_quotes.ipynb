{
  "nbformat": 4,
  "nbformat_minor": 0,
  "metadata": {
    "colab": {
      "name": "lincoln_quotes.ipynb",
      "version": "0.3.2",
      "provenance": [],
      "collapsed_sections": []
    },
    "kernelspec": {
      "name": "python3",
      "display_name": "Python 3"
    }
  },
  "cells": [
    {
      "cell_type": "code",
      "metadata": {
        "id": "z4II9XWw6KiF",
        "colab_type": "code",
        "colab": {}
      },
      "source": [
        "import requests\n",
        "from tqdm import tqdm\n",
        "from bs4 import BeautifulSoup"
      ],
      "execution_count": 0,
      "outputs": []
    },
    {
      "cell_type": "code",
      "metadata": {
        "id": "LZEftHX96Sfs",
        "colab_type": "code",
        "colab": {}
      },
      "source": [
        "# declare a list\n",
        "lincoln_quotes = []\n",
        "\n",
        "# iteraterate through the 13 pages of lincoln quotes\n",
        "for page in tqdm(range(1,3)):\n",
        "    \n",
        "    # make request for that page\n",
        "    r = requests.get(\"https://www.successories.com/iquote/author/291/abraham-lincoln-quotes/{0}\".format(page))\n",
        "    \n",
        "    # turn into a BeautifulSoup object\n",
        "    soup = BeautifulSoup(r.text, 'html.parser')\n",
        "    \n",
        "    # find quotes on page\n",
        "    quotes = soup.find_all(name='div', attrs={'class':'quote'})\n",
        "    \n",
        "    # add to our quotes list\n",
        "    for quote in quotes:\n",
        "        lincoln_quotes.append(quote.text)\n",
        "print(\"Total number of quotes scraped: \" + str(len(lincoln_quotes)) +\"\\n\")"
      ],
      "execution_count": 0,
      "outputs": []
    },
    {
      "cell_type": "code",
      "metadata": {
        "id": "P4loyHz66lx-",
        "colab_type": "code",
        "colab": {}
      },
      "source": [
        "lincoln_quotes"
      ],
      "execution_count": 0,
      "outputs": []
    }
  ]
}